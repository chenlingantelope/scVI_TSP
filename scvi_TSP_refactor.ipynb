{
 "cells": [
  {
   "cell_type": "code",
   "execution_count": null,
   "metadata": {},
   "outputs": [],
   "source": [
    "import sys\n",
    "import numpy as np\n",
    "import torch\n",
    "import pandas as pd\n",
    "import scanpy as sc\n",
    "from anndata import read_h5ad\n"
   ]
  },
  {
   "cell_type": "code",
   "execution_count": null,
   "metadata": {},
   "outputs": [],
   "source": [
    "ont_dir = '/data/yosef2/users/chenling/cellontology/'\n",
    "sys.path.append(ont_dir)"
   ]
  },
  {
   "cell_type": "markdown",
   "metadata": {},
   "source": [
    "# Data loading"
   ]
  },
  {
   "cell_type": "code",
   "execution_count": null,
   "metadata": {},
   "outputs": [],
   "source": [
    "data_path = \"/data/yosef2/users/chenling/TabulaSapiensData/combined/Pilot1_Pilot2.Final.h5ad\"\n",
    "adjm_path = \"./data/ontology.flat.pkl\""
   ]
  },
  {
   "cell_type": "code",
   "execution_count": null,
   "metadata": {},
   "outputs": [],
   "source": [
    "annd = read_h5ad(data_path)\n",
    "\n",
    "batch_idx = annd.obs[\"donor\"]\n",
    "labels = annd.obs[\"manual_cell_ontology_class\"]"
   ]
  },
  {
   "cell_type": "code",
   "execution_count": null,
   "metadata": {},
   "outputs": [],
   "source": [
    "import pickle\n",
    "\n",
    "adj = pickle.load(open(adjm_path, \"rb\" ) )\n",
    "adjm = adj.adjacency_matrix()"
   ]
  },
  {
   "cell_type": "code",
   "execution_count": null,
   "metadata": {},
   "outputs": [],
   "source": [
    "def get_direct_desc(series):\n",
    "    \"\"\"\n",
    "        return list of direct descendants\n",
    "    \"\"\"\n",
    "    return list(series[lambda y: y == 1].index.values)\n",
    "\n",
    "def _recursor(nodes, adjm, depth):\n",
    "#     print(nodes, depth)\n",
    "    desc_of_nodes = list(adjm[depth].loc[nodes].apply(get_direct_desc, axis=1))\n",
    "    concat_desc = [item for sublist in desc_of_nodes for item in sublist]\n",
    "#     print(concat_desc)\n",
    "    if depth == len(adjm) - 1:\n",
    "        return concat_desc\n",
    "    else:\n",
    "        return _recursor(\n",
    "            nodes=concat_desc,\n",
    "            adjm=adjm,\n",
    "            depth=depth+1\n",
    "        )\n",
    "    \n",
    "def get_node_to_leaves(adjm):\n",
    "    depth_lvls = len(adjm)\n",
    "    mapper = []\n",
    "    for depth_lvl in range(depth_lvls):\n",
    "        nodes = adjm[depth_lvl].index.values\n",
    "        _nodes = pd.Series([[idx] for idx in adjm[depth_lvl].index])\n",
    "        leaves = _nodes.apply(_recursor, adjm=adjm, depth=depth_lvl)\n",
    "        ser = pd.Series(data=leaves.values, index=nodes)\n",
    "        mapper.append(ser)\n",
    "    \n",
    "    leaves = adjm[-1].columns.values\n",
    "    _leaves = [[leaf] for leaf in leaves]\n",
    "    mapper.append(\n",
    "        pd.Series(data=_leaves, index=leaves)\n",
    "    )\n",
    "    res = pd.concat(mapper)\n",
    "    res.loc[\"unassigned\"] = [\"unassigned\"]\n",
    "    res.loc[\"low_quality\"] = [\"low_quality\"]\n",
    "    return res\n",
    "\n",
    "\n",
    "def get_names(all_to_leaves, adj):\n",
    "    id_to_label = {\n",
    "        idx: adj.nodes[idx]['name'] for idx in all_to_leaves.index \n",
    "        if (idx != \"unassigned\")  and (idx != \"low_quality\")\n",
    "    }\n",
    "    label_to_id = {\n",
    "        adj.nodes[idx]['name']: idx for idx in all_to_leaves.index \n",
    "        if (idx != \"unassigned\") and (idx != \"low_quality\")\n",
    "    }\n",
    "   \n",
    "    id_to_label = pd.Series(id_to_label)\n",
    "    label_to_id = pd.Series(label_to_id)\n",
    "    id_to_label.loc[\"unassigned\"] = \"unassigned\"\n",
    "    label_to_id.loc[\"unassigned\"] = \"unassigned\"\n",
    "    \n",
    "    id_to_label.loc[\"low_quality\"] = \"low_quality\"\n",
    "    label_to_id.loc[\"low_quality\"] = \"low_quality\"\n",
    "    return id_to_label, label_to_id\n",
    "\n",
    "def get_to_idx_mappers(leaf_node_names, other_node_names):\n",
    "    total_nb = len(leaf_node_names) + len(other_node_names)\n",
    "    \n",
    "    data = leaf_node_names + other_node_names\n",
    "    index = np.arange(total_nb)\n",
    "    idx_to_node = pd.Series(\n",
    "        data=data, index=index\n",
    "    )\n",
    "    node_to_idx = pd.Series(\n",
    "        data=index, index=data\n",
    "    )\n",
    "    return node_to_idx, idx_to_node"
   ]
  },
  {
   "cell_type": "code",
   "execution_count": null,
   "metadata": {},
   "outputs": [],
   "source": [
    "all_to_leaves = get_node_to_leaves(adjm)\n",
    "print(len(all_to_leaves))\n",
    "all_to_leaves.head()\n",
    "\n",
    "leaf_node_names = list(adjm[-1].columns.values) + [\"low_quality\"] + [\"unassigned\"]\n",
    "other_node_names = list(all_to_leaves.index[~np.isin(all_to_leaves.index, leaf_node_names)])\n",
    "print(len(other_node_names) + len(leaf_node_names))"
   ]
  },
  {
   "cell_type": "code",
   "execution_count": null,
   "metadata": {},
   "outputs": [],
   "source": [
    "id_to_label, label_to_id = get_names(all_to_leaves=all_to_leaves, adj=adj)"
   ]
  },
  {
   "cell_type": "code",
   "execution_count": null,
   "metadata": {},
   "outputs": [],
   "source": [
    "nodes_to_indices, indices_to_nodes = get_to_idx_mappers(\n",
    "    leaf_node_names=leaf_node_names,\n",
    "    other_node_names=other_node_names,\n",
    ")\n"
   ]
  },
  {
   "cell_type": "code",
   "execution_count": null,
   "metadata": {},
   "outputs": [],
   "source": [
    "# Convert labels like \"T-cell\" to nodes \"CL:0000084\"\n",
    "nodes = label_to_id[labels]\n",
    "assert len(nodes) == len(labels)\n",
    "print(\"Number of nodes that are NaN\", nodes.isna().sum())"
   ]
  },
  {
   "cell_type": "code",
   "execution_count": null,
   "metadata": {},
   "outputs": [],
   "source": [
    "node_counts = nodes.groupby(nodes).size()\n",
    "leaf_counts = node_counts.reindex(leaf_node_names).fillna(1.0)"
   ]
  },
  {
   "cell_type": "code",
   "execution_count": null,
   "metadata": {},
   "outputs": [],
   "source": [
    "def get_leaf_sampling_probs(\n",
    "    all_to_leaves, leaf_counts, nodes_to_indices\n",
    "):\n",
    "    \"\"\"\n",
    "        all_to_leaves: map between node names and their leaves\n",
    "        leaf_counts: empirical counts in the dataset of leaf counts\n",
    "    \"\"\"\n",
    "    nodes_to_leaves_probs = np.zeros(\n",
    "        (len(all_to_leaves), len(leaf_counts),)\n",
    "    )\n",
    "    for label, idx in nodes_to_indices.items():\n",
    "        leaves = all_to_leaves[label]\n",
    "        for leaf in leaves:\n",
    "            nodes_to_leaves_probs[idx, nodes_to_indices[leaf]] = leaf_counts[leaf]\n",
    "    nodes_to_leaves_probs = nodes_to_leaves_probs / nodes_to_leaves_probs.sum(\n",
    "        1, keepdims=True\n",
    "    )\n",
    "    return nodes_to_leaves_probs"
   ]
  },
  {
   "cell_type": "code",
   "execution_count": null,
   "metadata": {},
   "outputs": [],
   "source": [
    "nodes_to_leaves_probs = get_leaf_sampling_probs(\n",
    "    all_to_leaves=all_to_leaves, leaf_counts=leaf_counts, nodes_to_indices=nodes_to_indices\n",
    ")"
   ]
  },
  {
   "cell_type": "code",
   "execution_count": null,
   "metadata": {},
   "outputs": [],
   "source": [
    "%matplotlib inline\n",
    "import seaborn as sns\n",
    "\n",
    "sns.heatmap(nodes_to_leaves_probs)"
   ]
  },
  {
   "cell_type": "code",
   "execution_count": null,
   "metadata": {},
   "outputs": [],
   "source": [
    "len(leaf_node_names)"
   ]
  },
  {
   "cell_type": "code",
   "execution_count": null,
   "metadata": {},
   "outputs": [],
   "source": [
    "(nodes_to_leaves_probs[:93][:,:93] == np.eye(93,)).all()"
   ]
  },
  {
   "cell_type": "code",
   "execution_count": null,
   "metadata": {},
   "outputs": [],
   "source": [
    "adjmc = []\n",
    "for x in adjm:\n",
    "    a = x.shape[0]\n",
    "    b = x.shape[1]\n",
    "    temp = np.zeros((a + 1, b + 1))\n",
    "    temp[:a, :b] = np.asarray(x)\n",
    "    temp[a, b] = 1\n",
    "    adjmc.append(temp)"
   ]
  },
  {
   "cell_type": "markdown",
   "metadata": {},
   "source": [
    "### Gene selection"
   ]
  },
  {
   "cell_type": "code",
   "execution_count": null,
   "metadata": {},
   "outputs": [],
   "source": [
    "nodes_to_leaves_probs = torch.tensor(nodes_to_leaves_probs, device=\"cuda\")"
   ]
  },
  {
   "cell_type": "code",
   "execution_count": 76,
   "metadata": {},
   "outputs": [
    {
     "name": "stdout",
     "output_type": "stream",
     "text": [
      "0.9995233719713237\n"
     ]
    }
   ],
   "source": [
    "final_cells = ~nodes.isna().values\n",
    "# final_cells = np.ones(annd.raw.X.shape[0], dtype=bool)\n",
    "print(final_cells.mean())"
   ]
  },
  {
   "cell_type": "code",
   "execution_count": null,
   "metadata": {},
   "outputs": [],
   "source": []
  },
  {
   "cell_type": "code",
   "execution_count": 67,
   "metadata": {},
   "outputs": [],
   "source": [
    "adata2 = sc.AnnData(X=annd.raw.X, var=annd.raw.var, obs = annd.obs)\n",
    "\n",
    "# sc.pp.normalize_per_cell(adata2, counts_per_cell_after=1e4)\n",
    "# sc.pp.log1p(adata2)\n",
    "\n",
    "sc.pp.normalize_total(adata2, target_sum=1e4)\n",
    "# logarithmed data\n",
    "sc.pp.log1p(adata2)"
   ]
  },
  {
   "cell_type": "code",
   "execution_count": 68,
   "metadata": {},
   "outputs": [
    {
     "name": "stdout",
     "output_type": "stream",
     "text": [
      "Highly variable genes: 3000\n"
     ]
    },
    {
     "data": {
      "image/png": "[encoded data removed]",
      "text/plain": [
       "<Figure size 864x288 with 2 Axes>"
      ]
     },
     "metadata": {
      "needs_background": "light"
     },
     "output_type": "display_data"
    }
   ],
   "source": [
    "# Finding top genes\n",
    "sc.pp.highly_variable_genes(\n",
    "    adata=adata2,\n",
    "    n_top_genes=3000,\n",
    "#     flavor=flavor,\n",
    "    batch_key=\"donor\",\n",
    "#     **highly_var_genes_kwargs,\n",
    ")\n",
    "\n",
    "sc.pl.highly_variable_genes(adata2)\n",
    "print(\"Highly variable genes: %d\"%sum(adata2.var.highly_variable))\n",
    "\n",
    "var_genes_all = adata2.var.highly_variable"
   ]
  },
  {
   "cell_type": "code",
   "execution_count": 69,
   "metadata": {},
   "outputs": [
    {
     "data": {
      "text/html": [
       "<div>\n",
       "<style scoped>\n",
       "    .dataframe tbody tr th:only-of-type {\n",
       "        vertical-align: middle;\n",
       "    }\n",
       "\n",
       "    .dataframe tbody tr th {\n",
       "        vertical-align: top;\n",
       "    }\n",
       "\n",
       "    .dataframe thead th {\n",
       "        text-align: right;\n",
       "    }\n",
       "</style>\n",
       "<table border=\"1\" class=\"dataframe\">\n",
       "  <thead>\n",
       "    <tr style=\"text-align: right;\">\n",
       "      <th></th>\n",
       "      <th>10X_run</th>\n",
       "      <th>smartseq2_barcode</th>\n",
       "      <th>smartseq2_library_plate</th>\n",
       "      <th>smartseq2_sorting_direction</th>\n",
       "      <th>smartseq2_sort_order</th>\n",
       "      <th>smartseq2_cDNA_Plate</th>\n",
       "      <th>cell_id</th>\n",
       "      <th>method</th>\n",
       "      <th>notes</th>\n",
       "      <th>donor</th>\n",
       "      <th>...</th>\n",
       "      <th>n_genes</th>\n",
       "      <th>batch</th>\n",
       "      <th>donor_tech_tissue</th>\n",
       "      <th>donor_tech</th>\n",
       "      <th>compartment</th>\n",
       "      <th>compartment_pred</th>\n",
       "      <th>propagated_cell_ontology_class</th>\n",
       "      <th>manual_cell_ontology_class</th>\n",
       "      <th>propagated_cell_ontology_class_0</th>\n",
       "      <th>manual_cell_ontology_class_0</th>\n",
       "    </tr>\n",
       "  </thead>\n",
       "  <tbody>\n",
       "    <tr>\n",
       "      <th>AAACCCAAGTTGTCGT-1-0-0-0-0-0-0-0-0-0-0-0-0-0-0-0-0-0-0-0-0-0-0</th>\n",
       "      <td>TSP1_blood_2</td>\n",
       "      <td>nan</td>\n",
       "      <td>nan</td>\n",
       "      <td>nan</td>\n",
       "      <td>nan</td>\n",
       "      <td>nan</td>\n",
       "      <td>AAACCCAAGTTGTCGT_TSP1_blood_2</td>\n",
       "      <td>10X</td>\n",
       "      <td>nan</td>\n",
       "      <td>TSP1</td>\n",
       "      <td>...</td>\n",
       "      <td>2056</td>\n",
       "      <td>0</td>\n",
       "      <td>TSP1_10X_Blood</td>\n",
       "      <td>TSP1_10X</td>\n",
       "      <td>unassigned</td>\n",
       "      <td>Immune</td>\n",
       "      <td>naive thymus-derived CD4-positive, alpha-beta ...</td>\n",
       "      <td>unassigned</td>\n",
       "      <td>naive thymus-derived CD4-positive, alpha-beta ...</td>\n",
       "      <td>unassigned</td>\n",
       "    </tr>\n",
       "    <tr>\n",
       "      <th>AAACGAAAGCCGTTAT-1-0-0-0-0-0-0-0-0-0-0-0-0-0-0-0-0-0-0-0-0-0-0</th>\n",
       "      <td>TSP1_blood_2</td>\n",
       "      <td>nan</td>\n",
       "      <td>nan</td>\n",
       "      <td>nan</td>\n",
       "      <td>nan</td>\n",
       "      <td>nan</td>\n",
       "      <td>AAACGAAAGCCGTTAT_TSP1_blood_2</td>\n",
       "      <td>10X</td>\n",
       "      <td>nan</td>\n",
       "      <td>TSP1</td>\n",
       "      <td>...</td>\n",
       "      <td>1847</td>\n",
       "      <td>0</td>\n",
       "      <td>TSP1_10X_Blood</td>\n",
       "      <td>TSP1_10X</td>\n",
       "      <td>unassigned</td>\n",
       "      <td>Immune</td>\n",
       "      <td>CD8-positive, alpha-beta memory T cell</td>\n",
       "      <td>unassigned</td>\n",
       "      <td>CD4-positive, alpha-beta memory T cell</td>\n",
       "      <td>unassigned</td>\n",
       "    </tr>\n",
       "    <tr>\n",
       "      <th>AAAGGATAGTGTTGTC-1-0-0-0-0-0-0-0-0-0-0-0-0-0-0-0-0-0-0-0-0-0-0</th>\n",
       "      <td>TSP1_blood_2</td>\n",
       "      <td>nan</td>\n",
       "      <td>nan</td>\n",
       "      <td>nan</td>\n",
       "      <td>nan</td>\n",
       "      <td>nan</td>\n",
       "      <td>AAAGGATAGTGTTGTC_TSP1_blood_2</td>\n",
       "      <td>10X</td>\n",
       "      <td>nan</td>\n",
       "      <td>TSP1</td>\n",
       "      <td>...</td>\n",
       "      <td>2208</td>\n",
       "      <td>0</td>\n",
       "      <td>TSP1_10X_Blood</td>\n",
       "      <td>TSP1_10X</td>\n",
       "      <td>unassigned</td>\n",
       "      <td>Immune</td>\n",
       "      <td>CD4-positive helper T cell</td>\n",
       "      <td>unassigned</td>\n",
       "      <td>naive thymus-derived CD4-positive, alpha-beta ...</td>\n",
       "      <td>unassigned</td>\n",
       "    </tr>\n",
       "    <tr>\n",
       "      <th>AAAGGGCAGGAACTAT-1-0-0-0-0-0-0-0-0-0-0-0-0-0-0-0-0-0-0-0-0-0-0</th>\n",
       "      <td>TSP1_blood_2</td>\n",
       "      <td>nan</td>\n",
       "      <td>nan</td>\n",
       "      <td>nan</td>\n",
       "      <td>nan</td>\n",
       "      <td>nan</td>\n",
       "      <td>AAAGGGCAGGAACTAT_TSP1_blood_2</td>\n",
       "      <td>10X</td>\n",
       "      <td>nan</td>\n",
       "      <td>TSP1</td>\n",
       "      <td>...</td>\n",
       "      <td>2782</td>\n",
       "      <td>0</td>\n",
       "      <td>TSP1_10X_Blood</td>\n",
       "      <td>TSP1_10X</td>\n",
       "      <td>unassigned</td>\n",
       "      <td>Immune</td>\n",
       "      <td>neutrophil</td>\n",
       "      <td>unassigned</td>\n",
       "      <td>neutrophil</td>\n",
       "      <td>unassigned</td>\n",
       "    </tr>\n",
       "    <tr>\n",
       "      <th>AAAGGGCCAACCAACT-1-0-0-0-0-0-0-0-0-0-0-0-0-0-0-0-0-0-0-0-0-0-0</th>\n",
       "      <td>TSP1_blood_2</td>\n",
       "      <td>nan</td>\n",
       "      <td>nan</td>\n",
       "      <td>nan</td>\n",
       "      <td>nan</td>\n",
       "      <td>nan</td>\n",
       "      <td>AAAGGGCCAACCAACT_TSP1_blood_2</td>\n",
       "      <td>10X</td>\n",
       "      <td>nan</td>\n",
       "      <td>TSP1</td>\n",
       "      <td>...</td>\n",
       "      <td>4694</td>\n",
       "      <td>0</td>\n",
       "      <td>TSP1_10X_Blood</td>\n",
       "      <td>TSP1_10X</td>\n",
       "      <td>unassigned</td>\n",
       "      <td>Immune</td>\n",
       "      <td>classical monocyte</td>\n",
       "      <td>unassigned</td>\n",
       "      <td>classical monocyte</td>\n",
       "      <td>unassigned</td>\n",
       "    </tr>\n",
       "    <tr>\n",
       "      <th>...</th>\n",
       "      <td>...</td>\n",
       "      <td>...</td>\n",
       "      <td>...</td>\n",
       "      <td>...</td>\n",
       "      <td>...</td>\n",
       "      <td>...</td>\n",
       "      <td>...</td>\n",
       "      <td>...</td>\n",
       "      <td>...</td>\n",
       "      <td>...</td>\n",
       "      <td>...</td>\n",
       "      <td>...</td>\n",
       "      <td>...</td>\n",
       "      <td>...</td>\n",
       "      <td>...</td>\n",
       "      <td>...</td>\n",
       "      <td>...</td>\n",
       "      <td>...</td>\n",
       "      <td>...</td>\n",
       "      <td>...</td>\n",
       "      <td>...</td>\n",
       "    </tr>\n",
       "    <tr>\n",
       "      <th>TSP2_Vasculature_aorta_SS2_B114585_B133324_Stromal_P2_S98.homo.gencode.v30.ERCC.chrM-1-1</th>\n",
       "      <td>nan</td>\n",
       "      <td>nan</td>\n",
       "      <td>B133324</td>\n",
       "      <td>nan</td>\n",
       "      <td>nan</td>\n",
       "      <td>B114585</td>\n",
       "      <td>TSP2_Vasculature_aorta_SS2_B114585_B133324_Str...</td>\n",
       "      <td>smartseq2</td>\n",
       "      <td>nan</td>\n",
       "      <td>TSP2</td>\n",
       "      <td>...</td>\n",
       "      <td>2590</td>\n",
       "      <td>3</td>\n",
       "      <td>TSP2_smartseq2_Vasculature</td>\n",
       "      <td>TSP2_smartseq2</td>\n",
       "      <td>unassigned</td>\n",
       "      <td>Stromal</td>\n",
       "      <td>fibroblast</td>\n",
       "      <td>unassigned</td>\n",
       "      <td>fibroblast</td>\n",
       "      <td>unassigned</td>\n",
       "    </tr>\n",
       "    <tr>\n",
       "      <th>TSP2_Vasculature_aorta_SS2_B114585_B133324_Stromal_P3_S99.homo.gencode.v30.ERCC.chrM-1-1</th>\n",
       "      <td>nan</td>\n",
       "      <td>nan</td>\n",
       "      <td>B133324</td>\n",
       "      <td>nan</td>\n",
       "      <td>nan</td>\n",
       "      <td>B114585</td>\n",
       "      <td>TSP2_Vasculature_aorta_SS2_B114585_B133324_Str...</td>\n",
       "      <td>smartseq2</td>\n",
       "      <td>nan</td>\n",
       "      <td>TSP2</td>\n",
       "      <td>...</td>\n",
       "      <td>2327</td>\n",
       "      <td>3</td>\n",
       "      <td>TSP2_smartseq2_Vasculature</td>\n",
       "      <td>TSP2_smartseq2</td>\n",
       "      <td>unassigned</td>\n",
       "      <td>Stromal</td>\n",
       "      <td>fibroblast</td>\n",
       "      <td>unassigned</td>\n",
       "      <td>fibroblast</td>\n",
       "      <td>unassigned</td>\n",
       "    </tr>\n",
       "    <tr>\n",
       "      <th>TSP2_Vasculature_aorta_SS2_B114585_B133324_Stromal_P7_S103.homo.gencode.v30.ERCC.chrM-1-1</th>\n",
       "      <td>nan</td>\n",
       "      <td>nan</td>\n",
       "      <td>B133324</td>\n",
       "      <td>nan</td>\n",
       "      <td>nan</td>\n",
       "      <td>B114585</td>\n",
       "      <td>TSP2_Vasculature_aorta_SS2_B114585_B133324_Str...</td>\n",
       "      <td>smartseq2</td>\n",
       "      <td>nan</td>\n",
       "      <td>TSP2</td>\n",
       "      <td>...</td>\n",
       "      <td>2411</td>\n",
       "      <td>3</td>\n",
       "      <td>TSP2_smartseq2_Vasculature</td>\n",
       "      <td>TSP2_smartseq2</td>\n",
       "      <td>Stromal</td>\n",
       "      <td>Stromal</td>\n",
       "      <td>fibroblast</td>\n",
       "      <td>unassigned</td>\n",
       "      <td>fibroblast</td>\n",
       "      <td>unassigned</td>\n",
       "    </tr>\n",
       "    <tr>\n",
       "      <th>TSP2_Vasculature_aorta_SS2_B114585_B133324_Stromal_P8_S104.homo.gencode.v30.ERCC.chrM-1-1</th>\n",
       "      <td>nan</td>\n",
       "      <td>nan</td>\n",
       "      <td>B133324</td>\n",
       "      <td>nan</td>\n",
       "      <td>nan</td>\n",
       "      <td>B114585</td>\n",
       "      <td>TSP2_Vasculature_aorta_SS2_B114585_B133324_Str...</td>\n",
       "      <td>smartseq2</td>\n",
       "      <td>nan</td>\n",
       "      <td>TSP2</td>\n",
       "      <td>...</td>\n",
       "      <td>1439</td>\n",
       "      <td>3</td>\n",
       "      <td>TSP2_smartseq2_Vasculature</td>\n",
       "      <td>TSP2_smartseq2</td>\n",
       "      <td>unassigned</td>\n",
       "      <td>Immune</td>\n",
       "      <td>T cell</td>\n",
       "      <td>unassigned</td>\n",
       "      <td>plasma cell</td>\n",
       "      <td>unassigned</td>\n",
       "    </tr>\n",
       "    <tr>\n",
       "      <th>TSP2_Vasculature_aorta_SS2_B114585_B133324_Stromal_P9_S105.homo.gencode.v30.ERCC.chrM-1-1</th>\n",
       "      <td>nan</td>\n",
       "      <td>nan</td>\n",
       "      <td>B133324</td>\n",
       "      <td>nan</td>\n",
       "      <td>nan</td>\n",
       "      <td>B114585</td>\n",
       "      <td>TSP2_Vasculature_aorta_SS2_B114585_B133324_Str...</td>\n",
       "      <td>smartseq2</td>\n",
       "      <td>nan</td>\n",
       "      <td>TSP2</td>\n",
       "      <td>...</td>\n",
       "      <td>3444</td>\n",
       "      <td>3</td>\n",
       "      <td>TSP2_smartseq2_Vasculature</td>\n",
       "      <td>TSP2_smartseq2</td>\n",
       "      <td>unassigned</td>\n",
       "      <td>Stromal</td>\n",
       "      <td>fibroblast</td>\n",
       "      <td>unassigned</td>\n",
       "      <td>fibroblast</td>\n",
       "      <td>unassigned</td>\n",
       "    </tr>\n",
       "  </tbody>\n",
       "</table>\n",
       "<p>203513 rows × 30 columns</p>\n",
       "</div>"
      ],
      "text/plain": [
       "                                                         10X_run  \\\n",
       "AAACCCAAGTTGTCGT-1-0-0-0-0-0-0-0-0-0-0-0-0-0-0-...  TSP1_blood_2   \n",
       "AAACGAAAGCCGTTAT-1-0-0-0-0-0-0-0-0-0-0-0-0-0-0-...  TSP1_blood_2   \n",
       "AAAGGATAGTGTTGTC-1-0-0-0-0-0-0-0-0-0-0-0-0-0-0-...  TSP1_blood_2   \n",
       "AAAGGGCAGGAACTAT-1-0-0-0-0-0-0-0-0-0-0-0-0-0-0-...  TSP1_blood_2   \n",
       "AAAGGGCCAACCAACT-1-0-0-0-0-0-0-0-0-0-0-0-0-0-0-...  TSP1_blood_2   \n",
       "...                                                          ...   \n",
       "TSP2_Vasculature_aorta_SS2_B114585_B133324_Stro...           nan   \n",
       "TSP2_Vasculature_aorta_SS2_B114585_B133324_Stro...           nan   \n",
       "TSP2_Vasculature_aorta_SS2_B114585_B133324_Stro...           nan   \n",
       "TSP2_Vasculature_aorta_SS2_B114585_B133324_Stro...           nan   \n",
       "TSP2_Vasculature_aorta_SS2_B114585_B133324_Stro...           nan   \n",
       "\n",
       "                                                   smartseq2_barcode  \\\n",
       "AAACCCAAGTTGTCGT-1-0-0-0-0-0-0-0-0-0-0-0-0-0-0-...               nan   \n",
       "AAACGAAAGCCGTTAT-1-0-0-0-0-0-0-0-0-0-0-0-0-0-0-...               nan   \n",
       "AAAGGATAGTGTTGTC-1-0-0-0-0-0-0-0-0-0-0-0-0-0-0-...               nan   \n",
       "AAAGGGCAGGAACTAT-1-0-0-0-0-0-0-0-0-0-0-0-0-0-0-...               nan   \n",
       "AAAGGGCCAACCAACT-1-0-0-0-0-0-0-0-0-0-0-0-0-0-0-...               nan   \n",
       "...                                                              ...   \n",
       "TSP2_Vasculature_aorta_SS2_B114585_B133324_Stro...               nan   \n",
       "TSP2_Vasculature_aorta_SS2_B114585_B133324_Stro...               nan   \n",
       "TSP2_Vasculature_aorta_SS2_B114585_B133324_Stro...               nan   \n",
       "TSP2_Vasculature_aorta_SS2_B114585_B133324_Stro...               nan   \n",
       "TSP2_Vasculature_aorta_SS2_B114585_B133324_Stro...               nan   \n",
       "\n",
       "                                                   smartseq2_library_plate  \\\n",
       "AAACCCAAGTTGTCGT-1-0-0-0-0-0-0-0-0-0-0-0-0-0-0-...                     nan   \n",
       "AAACGAAAGCCGTTAT-1-0-0-0-0-0-0-0-0-0-0-0-0-0-0-...                     nan   \n",
       "AAAGGATAGTGTTGTC-1-0-0-0-0-0-0-0-0-0-0-0-0-0-0-...                     nan   \n",
       "AAAGGGCAGGAACTAT-1-0-0-0-0-0-0-0-0-0-0-0-0-0-0-...                     nan   \n",
       "AAAGGGCCAACCAACT-1-0-0-0-0-0-0-0-0-0-0-0-0-0-0-...                     nan   \n",
       "...                                                                    ...   \n",
       "TSP2_Vasculature_aorta_SS2_B114585_B133324_Stro...                 B133324   \n",
       "TSP2_Vasculature_aorta_SS2_B114585_B133324_Stro...                 B133324   \n",
       "TSP2_Vasculature_aorta_SS2_B114585_B133324_Stro...                 B133324   \n",
       "TSP2_Vasculature_aorta_SS2_B114585_B133324_Stro...                 B133324   \n",
       "TSP2_Vasculature_aorta_SS2_B114585_B133324_Stro...                 B133324   \n",
       "\n",
       "                                                   smartseq2_sorting_direction  \\\n",
       "AAACCCAAGTTGTCGT-1-0-0-0-0-0-0-0-0-0-0-0-0-0-0-...                         nan   \n",
       "AAACGAAAGCCGTTAT-1-0-0-0-0-0-0-0-0-0-0-0-0-0-0-...                         nan   \n",
       "AAAGGATAGTGTTGTC-1-0-0-0-0-0-0-0-0-0-0-0-0-0-0-...                         nan   \n",
       "AAAGGGCAGGAACTAT-1-0-0-0-0-0-0-0-0-0-0-0-0-0-0-...                         nan   \n",
       "AAAGGGCCAACCAACT-1-0-0-0-0-0-0-0-0-0-0-0-0-0-0-...                         nan   \n",
       "...                                                                        ...   \n",
       "TSP2_Vasculature_aorta_SS2_B114585_B133324_Stro...                         nan   \n",
       "TSP2_Vasculature_aorta_SS2_B114585_B133324_Stro...                         nan   \n",
       "TSP2_Vasculature_aorta_SS2_B114585_B133324_Stro...                         nan   \n",
       "TSP2_Vasculature_aorta_SS2_B114585_B133324_Stro...                         nan   \n",
       "TSP2_Vasculature_aorta_SS2_B114585_B133324_Stro...                         nan   \n",
       "\n",
       "                                                   smartseq2_sort_order  \\\n",
       "AAACCCAAGTTGTCGT-1-0-0-0-0-0-0-0-0-0-0-0-0-0-0-...                  nan   \n",
       "AAACGAAAGCCGTTAT-1-0-0-0-0-0-0-0-0-0-0-0-0-0-0-...                  nan   \n",
       "AAAGGATAGTGTTGTC-1-0-0-0-0-0-0-0-0-0-0-0-0-0-0-...                  nan   \n",
       "AAAGGGCAGGAACTAT-1-0-0-0-0-0-0-0-0-0-0-0-0-0-0-...                  nan   \n",
       "AAAGGGCCAACCAACT-1-0-0-0-0-0-0-0-0-0-0-0-0-0-0-...                  nan   \n",
       "...                                                                 ...   \n",
       "TSP2_Vasculature_aorta_SS2_B114585_B133324_Stro...                  nan   \n",
       "TSP2_Vasculature_aorta_SS2_B114585_B133324_Stro...                  nan   \n",
       "TSP2_Vasculature_aorta_SS2_B114585_B133324_Stro...                  nan   \n",
       "TSP2_Vasculature_aorta_SS2_B114585_B133324_Stro...                  nan   \n",
       "TSP2_Vasculature_aorta_SS2_B114585_B133324_Stro...                  nan   \n",
       "\n",
       "                                                   smartseq2_cDNA_Plate  \\\n",
       "AAACCCAAGTTGTCGT-1-0-0-0-0-0-0-0-0-0-0-0-0-0-0-...                  nan   \n",
       "AAACGAAAGCCGTTAT-1-0-0-0-0-0-0-0-0-0-0-0-0-0-0-...                  nan   \n",
       "AAAGGATAGTGTTGTC-1-0-0-0-0-0-0-0-0-0-0-0-0-0-0-...                  nan   \n",
       "AAAGGGCAGGAACTAT-1-0-0-0-0-0-0-0-0-0-0-0-0-0-0-...                  nan   \n",
       "AAAGGGCCAACCAACT-1-0-0-0-0-0-0-0-0-0-0-0-0-0-0-...                  nan   \n",
       "...                                                                 ...   \n",
       "TSP2_Vasculature_aorta_SS2_B114585_B133324_Stro...              B114585   \n",
       "TSP2_Vasculature_aorta_SS2_B114585_B133324_Stro...              B114585   \n",
       "TSP2_Vasculature_aorta_SS2_B114585_B133324_Stro...              B114585   \n",
       "TSP2_Vasculature_aorta_SS2_B114585_B133324_Stro...              B114585   \n",
       "TSP2_Vasculature_aorta_SS2_B114585_B133324_Stro...              B114585   \n",
       "\n",
       "                                                                                              cell_id  \\\n",
       "AAACCCAAGTTGTCGT-1-0-0-0-0-0-0-0-0-0-0-0-0-0-0-...                      AAACCCAAGTTGTCGT_TSP1_blood_2   \n",
       "AAACGAAAGCCGTTAT-1-0-0-0-0-0-0-0-0-0-0-0-0-0-0-...                      AAACGAAAGCCGTTAT_TSP1_blood_2   \n",
       "AAAGGATAGTGTTGTC-1-0-0-0-0-0-0-0-0-0-0-0-0-0-0-...                      AAAGGATAGTGTTGTC_TSP1_blood_2   \n",
       "AAAGGGCAGGAACTAT-1-0-0-0-0-0-0-0-0-0-0-0-0-0-0-...                      AAAGGGCAGGAACTAT_TSP1_blood_2   \n",
       "AAAGGGCCAACCAACT-1-0-0-0-0-0-0-0-0-0-0-0-0-0-0-...                      AAAGGGCCAACCAACT_TSP1_blood_2   \n",
       "...                                                                                               ...   \n",
       "TSP2_Vasculature_aorta_SS2_B114585_B133324_Stro...  TSP2_Vasculature_aorta_SS2_B114585_B133324_Str...   \n",
       "TSP2_Vasculature_aorta_SS2_B114585_B133324_Stro...  TSP2_Vasculature_aorta_SS2_B114585_B133324_Str...   \n",
       "TSP2_Vasculature_aorta_SS2_B114585_B133324_Stro...  TSP2_Vasculature_aorta_SS2_B114585_B133324_Str...   \n",
       "TSP2_Vasculature_aorta_SS2_B114585_B133324_Stro...  TSP2_Vasculature_aorta_SS2_B114585_B133324_Str...   \n",
       "TSP2_Vasculature_aorta_SS2_B114585_B133324_Stro...  TSP2_Vasculature_aorta_SS2_B114585_B133324_Str...   \n",
       "\n",
       "                                                       method notes donor  \\\n",
       "AAACCCAAGTTGTCGT-1-0-0-0-0-0-0-0-0-0-0-0-0-0-0-...        10X   nan  TSP1   \n",
       "AAACGAAAGCCGTTAT-1-0-0-0-0-0-0-0-0-0-0-0-0-0-0-...        10X   nan  TSP1   \n",
       "AAAGGATAGTGTTGTC-1-0-0-0-0-0-0-0-0-0-0-0-0-0-0-...        10X   nan  TSP1   \n",
       "AAAGGGCAGGAACTAT-1-0-0-0-0-0-0-0-0-0-0-0-0-0-0-...        10X   nan  TSP1   \n",
       "AAAGGGCCAACCAACT-1-0-0-0-0-0-0-0-0-0-0-0-0-0-0-...        10X   nan  TSP1   \n",
       "...                                                       ...   ...   ...   \n",
       "TSP2_Vasculature_aorta_SS2_B114585_B133324_Stro...  smartseq2   nan  TSP2   \n",
       "TSP2_Vasculature_aorta_SS2_B114585_B133324_Stro...  smartseq2   nan  TSP2   \n",
       "TSP2_Vasculature_aorta_SS2_B114585_B133324_Stro...  smartseq2   nan  TSP2   \n",
       "TSP2_Vasculature_aorta_SS2_B114585_B133324_Stro...  smartseq2   nan  TSP2   \n",
       "TSP2_Vasculature_aorta_SS2_B114585_B133324_Stro...  smartseq2   nan  TSP2   \n",
       "\n",
       "                                                    ... n_genes batch  \\\n",
       "AAACCCAAGTTGTCGT-1-0-0-0-0-0-0-0-0-0-0-0-0-0-0-...  ...    2056     0   \n",
       "AAACGAAAGCCGTTAT-1-0-0-0-0-0-0-0-0-0-0-0-0-0-0-...  ...    1847     0   \n",
       "AAAGGATAGTGTTGTC-1-0-0-0-0-0-0-0-0-0-0-0-0-0-0-...  ...    2208     0   \n",
       "AAAGGGCAGGAACTAT-1-0-0-0-0-0-0-0-0-0-0-0-0-0-0-...  ...    2782     0   \n",
       "AAAGGGCCAACCAACT-1-0-0-0-0-0-0-0-0-0-0-0-0-0-0-...  ...    4694     0   \n",
       "...                                                 ...     ...   ...   \n",
       "TSP2_Vasculature_aorta_SS2_B114585_B133324_Stro...  ...    2590     3   \n",
       "TSP2_Vasculature_aorta_SS2_B114585_B133324_Stro...  ...    2327     3   \n",
       "TSP2_Vasculature_aorta_SS2_B114585_B133324_Stro...  ...    2411     3   \n",
       "TSP2_Vasculature_aorta_SS2_B114585_B133324_Stro...  ...    1439     3   \n",
       "TSP2_Vasculature_aorta_SS2_B114585_B133324_Stro...  ...    3444     3   \n",
       "\n",
       "                                                             donor_tech_tissue  \\\n",
       "AAACCCAAGTTGTCGT-1-0-0-0-0-0-0-0-0-0-0-0-0-0-0-...              TSP1_10X_Blood   \n",
       "AAACGAAAGCCGTTAT-1-0-0-0-0-0-0-0-0-0-0-0-0-0-0-...              TSP1_10X_Blood   \n",
       "AAAGGATAGTGTTGTC-1-0-0-0-0-0-0-0-0-0-0-0-0-0-0-...              TSP1_10X_Blood   \n",
       "AAAGGGCAGGAACTAT-1-0-0-0-0-0-0-0-0-0-0-0-0-0-0-...              TSP1_10X_Blood   \n",
       "AAAGGGCCAACCAACT-1-0-0-0-0-0-0-0-0-0-0-0-0-0-0-...              TSP1_10X_Blood   \n",
       "...                                                                        ...   \n",
       "TSP2_Vasculature_aorta_SS2_B114585_B133324_Stro...  TSP2_smartseq2_Vasculature   \n",
       "TSP2_Vasculature_aorta_SS2_B114585_B133324_Stro...  TSP2_smartseq2_Vasculature   \n",
       "TSP2_Vasculature_aorta_SS2_B114585_B133324_Stro...  TSP2_smartseq2_Vasculature   \n",
       "TSP2_Vasculature_aorta_SS2_B114585_B133324_Stro...  TSP2_smartseq2_Vasculature   \n",
       "TSP2_Vasculature_aorta_SS2_B114585_B133324_Stro...  TSP2_smartseq2_Vasculature   \n",
       "\n",
       "                                                        donor_tech  \\\n",
       "AAACCCAAGTTGTCGT-1-0-0-0-0-0-0-0-0-0-0-0-0-0-0-...        TSP1_10X   \n",
       "AAACGAAAGCCGTTAT-1-0-0-0-0-0-0-0-0-0-0-0-0-0-0-...        TSP1_10X   \n",
       "AAAGGATAGTGTTGTC-1-0-0-0-0-0-0-0-0-0-0-0-0-0-0-...        TSP1_10X   \n",
       "AAAGGGCAGGAACTAT-1-0-0-0-0-0-0-0-0-0-0-0-0-0-0-...        TSP1_10X   \n",
       "AAAGGGCCAACCAACT-1-0-0-0-0-0-0-0-0-0-0-0-0-0-0-...        TSP1_10X   \n",
       "...                                                            ...   \n",
       "TSP2_Vasculature_aorta_SS2_B114585_B133324_Stro...  TSP2_smartseq2   \n",
       "TSP2_Vasculature_aorta_SS2_B114585_B133324_Stro...  TSP2_smartseq2   \n",
       "TSP2_Vasculature_aorta_SS2_B114585_B133324_Stro...  TSP2_smartseq2   \n",
       "TSP2_Vasculature_aorta_SS2_B114585_B133324_Stro...  TSP2_smartseq2   \n",
       "TSP2_Vasculature_aorta_SS2_B114585_B133324_Stro...  TSP2_smartseq2   \n",
       "\n",
       "                                                   compartment  \\\n",
       "AAACCCAAGTTGTCGT-1-0-0-0-0-0-0-0-0-0-0-0-0-0-0-...  unassigned   \n",
       "AAACGAAAGCCGTTAT-1-0-0-0-0-0-0-0-0-0-0-0-0-0-0-...  unassigned   \n",
       "AAAGGATAGTGTTGTC-1-0-0-0-0-0-0-0-0-0-0-0-0-0-0-...  unassigned   \n",
       "AAAGGGCAGGAACTAT-1-0-0-0-0-0-0-0-0-0-0-0-0-0-0-...  unassigned   \n",
       "AAAGGGCCAACCAACT-1-0-0-0-0-0-0-0-0-0-0-0-0-0-0-...  unassigned   \n",
       "...                                                        ...   \n",
       "TSP2_Vasculature_aorta_SS2_B114585_B133324_Stro...  unassigned   \n",
       "TSP2_Vasculature_aorta_SS2_B114585_B133324_Stro...  unassigned   \n",
       "TSP2_Vasculature_aorta_SS2_B114585_B133324_Stro...     Stromal   \n",
       "TSP2_Vasculature_aorta_SS2_B114585_B133324_Stro...  unassigned   \n",
       "TSP2_Vasculature_aorta_SS2_B114585_B133324_Stro...  unassigned   \n",
       "\n",
       "                                                   compartment_pred  \\\n",
       "AAACCCAAGTTGTCGT-1-0-0-0-0-0-0-0-0-0-0-0-0-0-0-...           Immune   \n",
       "AAACGAAAGCCGTTAT-1-0-0-0-0-0-0-0-0-0-0-0-0-0-0-...           Immune   \n",
       "AAAGGATAGTGTTGTC-1-0-0-0-0-0-0-0-0-0-0-0-0-0-0-...           Immune   \n",
       "AAAGGGCAGGAACTAT-1-0-0-0-0-0-0-0-0-0-0-0-0-0-0-...           Immune   \n",
       "AAAGGGCCAACCAACT-1-0-0-0-0-0-0-0-0-0-0-0-0-0-0-...           Immune   \n",
       "...                                                             ...   \n",
       "TSP2_Vasculature_aorta_SS2_B114585_B133324_Stro...          Stromal   \n",
       "TSP2_Vasculature_aorta_SS2_B114585_B133324_Stro...          Stromal   \n",
       "TSP2_Vasculature_aorta_SS2_B114585_B133324_Stro...          Stromal   \n",
       "TSP2_Vasculature_aorta_SS2_B114585_B133324_Stro...           Immune   \n",
       "TSP2_Vasculature_aorta_SS2_B114585_B133324_Stro...          Stromal   \n",
       "\n",
       "                                                                       propagated_cell_ontology_class  \\\n",
       "AAACCCAAGTTGTCGT-1-0-0-0-0-0-0-0-0-0-0-0-0-0-0-...  naive thymus-derived CD4-positive, alpha-beta ...   \n",
       "AAACGAAAGCCGTTAT-1-0-0-0-0-0-0-0-0-0-0-0-0-0-0-...             CD8-positive, alpha-beta memory T cell   \n",
       "AAAGGATAGTGTTGTC-1-0-0-0-0-0-0-0-0-0-0-0-0-0-0-...                         CD4-positive helper T cell   \n",
       "AAAGGGCAGGAACTAT-1-0-0-0-0-0-0-0-0-0-0-0-0-0-0-...                                         neutrophil   \n",
       "AAAGGGCCAACCAACT-1-0-0-0-0-0-0-0-0-0-0-0-0-0-0-...                                 classical monocyte   \n",
       "...                                                                                               ...   \n",
       "TSP2_Vasculature_aorta_SS2_B114585_B133324_Stro...                                         fibroblast   \n",
       "TSP2_Vasculature_aorta_SS2_B114585_B133324_Stro...                                         fibroblast   \n",
       "TSP2_Vasculature_aorta_SS2_B114585_B133324_Stro...                                         fibroblast   \n",
       "TSP2_Vasculature_aorta_SS2_B114585_B133324_Stro...                                             T cell   \n",
       "TSP2_Vasculature_aorta_SS2_B114585_B133324_Stro...                                         fibroblast   \n",
       "\n",
       "                                                   manual_cell_ontology_class  \\\n",
       "AAACCCAAGTTGTCGT-1-0-0-0-0-0-0-0-0-0-0-0-0-0-0-...                 unassigned   \n",
       "AAACGAAAGCCGTTAT-1-0-0-0-0-0-0-0-0-0-0-0-0-0-0-...                 unassigned   \n",
       "AAAGGATAGTGTTGTC-1-0-0-0-0-0-0-0-0-0-0-0-0-0-0-...                 unassigned   \n",
       "AAAGGGCAGGAACTAT-1-0-0-0-0-0-0-0-0-0-0-0-0-0-0-...                 unassigned   \n",
       "AAAGGGCCAACCAACT-1-0-0-0-0-0-0-0-0-0-0-0-0-0-0-...                 unassigned   \n",
       "...                                                                       ...   \n",
       "TSP2_Vasculature_aorta_SS2_B114585_B133324_Stro...                 unassigned   \n",
       "TSP2_Vasculature_aorta_SS2_B114585_B133324_Stro...                 unassigned   \n",
       "TSP2_Vasculature_aorta_SS2_B114585_B133324_Stro...                 unassigned   \n",
       "TSP2_Vasculature_aorta_SS2_B114585_B133324_Stro...                 unassigned   \n",
       "TSP2_Vasculature_aorta_SS2_B114585_B133324_Stro...                 unassigned   \n",
       "\n",
       "                                                                     propagated_cell_ontology_class_0  \\\n",
       "AAACCCAAGTTGTCGT-1-0-0-0-0-0-0-0-0-0-0-0-0-0-0-...  naive thymus-derived CD4-positive, alpha-beta ...   \n",
       "AAACGAAAGCCGTTAT-1-0-0-0-0-0-0-0-0-0-0-0-0-0-0-...             CD4-positive, alpha-beta memory T cell   \n",
       "AAAGGATAGTGTTGTC-1-0-0-0-0-0-0-0-0-0-0-0-0-0-0-...  naive thymus-derived CD4-positive, alpha-beta ...   \n",
       "AAAGGGCAGGAACTAT-1-0-0-0-0-0-0-0-0-0-0-0-0-0-0-...                                         neutrophil   \n",
       "AAAGGGCCAACCAACT-1-0-0-0-0-0-0-0-0-0-0-0-0-0-0-...                                 classical monocyte   \n",
       "...                                                                                               ...   \n",
       "TSP2_Vasculature_aorta_SS2_B114585_B133324_Stro...                                         fibroblast   \n",
       "TSP2_Vasculature_aorta_SS2_B114585_B133324_Stro...                                         fibroblast   \n",
       "TSP2_Vasculature_aorta_SS2_B114585_B133324_Stro...                                         fibroblast   \n",
       "TSP2_Vasculature_aorta_SS2_B114585_B133324_Stro...                                        plasma cell   \n",
       "TSP2_Vasculature_aorta_SS2_B114585_B133324_Stro...                                         fibroblast   \n",
       "\n",
       "                                                    manual_cell_ontology_class_0  \n",
       "AAACCCAAGTTGTCGT-1-0-0-0-0-0-0-0-0-0-0-0-0-0-0-...                    unassigned  \n",
       "AAACGAAAGCCGTTAT-1-0-0-0-0-0-0-0-0-0-0-0-0-0-0-...                    unassigned  \n",
       "AAAGGATAGTGTTGTC-1-0-0-0-0-0-0-0-0-0-0-0-0-0-0-...                    unassigned  \n",
       "AAAGGGCAGGAACTAT-1-0-0-0-0-0-0-0-0-0-0-0-0-0-0-...                    unassigned  \n",
       "AAAGGGCCAACCAACT-1-0-0-0-0-0-0-0-0-0-0-0-0-0-0-...                    unassigned  \n",
       "...                                                                          ...  \n",
       "TSP2_Vasculature_aorta_SS2_B114585_B133324_Stro...                    unassigned  \n",
       "TSP2_Vasculature_aorta_SS2_B114585_B133324_Stro...                    unassigned  \n",
       "TSP2_Vasculature_aorta_SS2_B114585_B133324_Stro...                    unassigned  \n",
       "TSP2_Vasculature_aorta_SS2_B114585_B133324_Stro...                    unassigned  \n",
       "TSP2_Vasculature_aorta_SS2_B114585_B133324_Stro...                    unassigned  \n",
       "\n",
       "[203513 rows x 30 columns]"
      ]
     },
     "execution_count": 69,
     "metadata": {},
     "output_type": "execute_result"
    }
   ],
   "source": [
    "annd.obs"
   ]
  },
  {
   "cell_type": "code",
   "execution_count": 77,
   "metadata": {},
   "outputs": [
    {
     "data": {
      "text/plain": [
       "array([ True,  True,  True, ...,  True,  True,  True])"
      ]
     },
     "execution_count": 77,
     "metadata": {},
     "output_type": "execute_result"
    }
   ],
   "source": [
    "final_cells"
   ]
  },
  {
   "cell_type": "code",
   "execution_count": 78,
   "metadata": {},
   "outputs": [],
   "source": [
    "X_final = annd.raw.X[final_cells][:, var_genes_all]\n",
    "var_final = annd.raw.var[var_genes_all]\n",
    "obs_final = annd.obs[final_cells]"
   ]
  },
  {
   "cell_type": "code",
   "execution_count": 79,
   "metadata": {},
   "outputs": [],
   "source": [
    "adataf = sc.AnnData(X=X_final, var=var_final, obs=obs_final)\n",
    "adataf.obs[\"batch_indices\"] = pd.factorize(adataf.obs['donor'])[0]"
   ]
  },
  {
   "cell_type": "code",
   "execution_count": 87,
   "metadata": {},
   "outputs": [],
   "source": [
    "a_labels = label_to_id[adataf.obs[\"manual_cell_ontology_class\"].values].values\n",
    "a_labels = nodes_to_indices[a_labels].values"
   ]
  },
  {
   "cell_type": "code",
   "execution_count": 88,
   "metadata": {},
   "outputs": [],
   "source": [
    "assert a_labels.shape[0] == adataf.X.shape[0]"
   ]
  },
  {
   "cell_type": "code",
   "execution_count": 89,
   "metadata": {},
   "outputs": [],
   "source": [
    "adataf.obs[\"final_labels\"] = a_labels"
   ]
  },
  {
   "cell_type": "code",
   "execution_count": 90,
   "metadata": {},
   "outputs": [],
   "source": [
    "from scvi.dataset import AnnDatasetFromAnnData"
   ]
  },
  {
   "cell_type": "code",
   "execution_count": 95,
   "metadata": {},
   "outputs": [
    {
     "name": "stdout",
     "output_type": "stream",
     "text": [
      "[2020-07-09 12:17:20,160] INFO - scvi.dataset.dataset | Remapping labels to [0,N]\n",
      "[2020-07-09 12:17:20,171] INFO - scvi.dataset.dataset | Remapping batch_indices to [0,N]\n",
      "[2020-07-09 12:17:20,701] WARNING - scvi.dataset.dataset | X contains continuous and/or negative values. Please use raw UMI/read counts with scVI\n",
      "[2020-07-09 12:17:20,702] INFO - scvi.dataset.dataset | Computing the library size for the new data\n",
      "[2020-07-09 12:17:21,049] INFO - scvi.dataset.dataset | Downsampled from 203416 to 203416 cells\n"
     ]
    }
   ],
   "source": [
    "train_data = AnnDatasetFromAnnData(\n",
    "    adataf, \n",
    "    batch_label=\"batch_indices\",\n",
    "    ctype_label=\"labels\"\n",
    ")\n",
    "\n",
    "train_data.cell_types = label_to_id.index.values\n",
    "train_data.labels = a_labels\n",
    "train_data.n_labels = len(train_data.cell_types)"
   ]
  },
  {
   "cell_type": "code",
   "execution_count": 96,
   "metadata": {},
   "outputs": [
    {
     "data": {
      "text/plain": [
       "array([[93],\n",
       "       [93],\n",
       "       [93],\n",
       "       ...,\n",
       "       [93],\n",
       "       [93],\n",
       "       [93]], dtype=uint16)"
      ]
     },
     "execution_count": 96,
     "metadata": {},
     "output_type": "execute_result"
    }
   ],
   "source": [
    "train_data.labels"
   ]
  },
  {
   "cell_type": "code",
   "execution_count": 97,
   "metadata": {},
   "outputs": [],
   "source": [
    "assert train_data.X.shape[0] == train_data.labels.shape[0]"
   ]
  },
  {
   "cell_type": "code",
   "execution_count": 98,
   "metadata": {},
   "outputs": [
    {
     "name": "stdout",
     "output_type": "stream",
     "text": [
      "Number of labels: 109\n",
      "Number of batches: 2\n"
     ]
    }
   ],
   "source": [
    "print(\"Number of labels:\", len(np.unique(train_data.labels)))\n",
    "print(\"Number of batches:\", len(np.unique(train_data.batch_indices)))"
   ]
  },
  {
   "cell_type": "code",
   "execution_count": 101,
   "metadata": {},
   "outputs": [
    {
     "data": {
      "text/plain": [
       "203416"
      ]
     },
     "execution_count": 101,
     "metadata": {},
     "output_type": "execute_result"
    }
   ],
   "source": [
    "len(train_data)"
   ]
  },
  {
   "cell_type": "code",
   "execution_count": 104,
   "metadata": {},
   "outputs": [
    {
     "data": {
      "text/plain": [
       "203416"
      ]
     },
     "execution_count": 104,
     "metadata": {},
     "output_type": "execute_result"
    }
   ],
   "source": [
    "len(train_data.labels)"
   ]
  },
  {
   "cell_type": "code",
   "execution_count": 105,
   "metadata": {},
   "outputs": [
    {
     "data": {
      "text/plain": [
       "203416"
      ]
     },
     "execution_count": 105,
     "metadata": {},
     "output_type": "execute_result"
    }
   ],
   "source": [
    "len(a_labels)"
   ]
  },
  {
   "cell_type": "markdown",
   "metadata": {},
   "source": [
    "# Model training"
   ]
  },
  {
   "cell_type": "code",
   "execution_count": 106,
   "metadata": {},
   "outputs": [],
   "source": [
    "from scvi.models import SCANVI\n",
    "from scvi.inference import SemiSupervisedTrainer"
   ]
  },
  {
   "cell_type": "code",
   "execution_count": 107,
   "metadata": {},
   "outputs": [
    {
     "data": {
      "text/plain": [
       "array([93, 93, 93, ..., 93, 93, 93], dtype=uint16)"
      ]
     },
     "execution_count": 107,
     "metadata": {},
     "output_type": "execute_result"
    }
   ],
   "source": [
    "train_data.labels.ravel()"
   ]
  },
  {
   "cell_type": "code",
   "execution_count": 109,
   "metadata": {},
   "outputs": [],
   "source": [
    "unlabelled_idx = 65535\n",
    "labelled = np.where(train_data.labels.ravel()!= nodes_to_indices.loc[\"unassigned\"])[0]\n",
    "unlabelled = np.where(train_data.labels.ravel()==nodes_to_indices.loc[\"unassigned\"])[0]"
   ]
  },
  {
   "cell_type": "code",
   "execution_count": 110,
   "metadata": {},
   "outputs": [],
   "source": [
    "n_labels_final = nodes_to_indices[\"unassigned\"]"
   ]
  },
  {
   "cell_type": "code",
   "execution_count": 111,
   "metadata": {},
   "outputs": [
    {
     "name": "stdout",
     "output_type": "stream",
     "text": [
      "labelled indices:  [  0   1   2   3   4   5   6   7   8   9  10  11  12  13  14  15  16  17\n",
      "  19  20  21  22  23  24  25  26  27  29  30  31  32  33  34  35  36  37\n",
      "  38  39  40  41  42  43  44  45  46  47  48  49  50  51  52  53  54  55\n",
      "  56  57  58  59  60  61  62  63  65  66  67  68  69  70  71  72  73  74\n",
      "  75  76  77  78  79  80  81  82  83  84  85  86  87  88  89  90  91  92\n",
      "  94 130 131 132 137 144 145 154 161 167 184 214 219 222 225 230 241 244]\n",
      "unlabelled indices:  [93]\n"
     ]
    }
   ],
   "source": [
    "scanvi = SCANVI(\n",
    "    train_data.nb_genes, \n",
    "    n_batch=train_data.n_batches, \n",
    "    n_labels=n_labels_final, \n",
    "    n_layers=3, \n",
    "    n_latent=50,\n",
    "    symmetric_kl=True, \n",
    "    use_ontology=True,\n",
    "    ontology=adjmc,\n",
    "    dispersion='gene-batch'\n",
    ")\n",
    "\n",
    "trainer_scanvi = SemiSupervisedTrainer(\n",
    "    scanvi, \n",
    "    train_data,   \n",
    "    n_epochs_classifier=50,   \n",
    "    lr_classification=5 * 1e-3, \n",
    "    seed=1,\n",
    "    batch_size=500,\n",
    "    n_epochs_kl_warmup=5,\n",
    "    indices_labelled=labelled,\n",
    "    indices_unlabelled=unlabelled,\n",
    "    nodes_to_leaves_probs=nodes_to_leaves_probs,\n",
    ") "
   ]
  },
  {
   "cell_type": "code",
   "execution_count": 112,
   "metadata": {
    "scrolled": true
   },
   "outputs": [
    {
     "data": {
      "application/vnd.jupyter.widget-view+json": {
       "model_id": "f602942e7ff84f0aa8b0cbe856bca720",
       "version_major": 2,
       "version_minor": 0
      },
      "text/plain": [
       "HBox(children=(FloatProgress(value=0.0, max=20.0), HTML(value='')))"
      ]
     },
     "metadata": {},
     "output_type": "display_data"
    },
    {
     "name": "stdout",
     "output_type": "stream",
     "text": [
      "Epoch:  0\n",
      "Epoch:  1\n",
      "Epoch:  2\n",
      "Epoch:  3\n",
      "Epoch:  4\n",
      "Epoch:  5\n",
      "Epoch:  6\n",
      "Epoch:  7\n",
      "Epoch:  8\n",
      "Epoch:  9\n",
      "Epoch:  10\n",
      "Epoch:  11\n",
      "Epoch:  12\n",
      "Epoch:  13\n",
      "Epoch:  14\n",
      "Epoch:  15\n",
      "Epoch:  16\n",
      "Epoch:  17\n",
      "Epoch:  18\n",
      "Epoch:  19\n",
      "\n"
     ]
    }
   ],
   "source": [
    "trainer_scanvi.train(\n",
    "    n_epochs=20,\n",
    "    lr=0.001,\n",
    ")"
   ]
  },
  {
   "cell_type": "code",
   "execution_count": 115,
   "metadata": {},
   "outputs": [],
   "source": [
    "full = trainer_scanvi.create_posterior(trainer_scanvi.model, train_data, indices=np.arange(len(train_data)))\n",
    "_, pred = full.sequential().compute_predictions()\n",
    "\n",
    "latent, _, _ = full.sequential().get_latent()"
   ]
  },
  {
   "cell_type": "code",
   "execution_count": 125,
   "metadata": {},
   "outputs": [],
   "source": [
    "where_unsup = (train_data.labels == 93).squeeze()\n",
    "where_unsup = np.where(where_unsup)[0]\n",
    "where_unsup = np.random.choice(where_unsup, 5000)"
   ]
  },
  {
   "cell_type": "code",
   "execution_count": 132,
   "metadata": {},
   "outputs": [],
   "source": [
    "from sklearn.manifold import TSNE"
   ]
  },
  {
   "cell_type": "code",
   "execution_count": 133,
   "metadata": {},
   "outputs": [],
   "source": [
    "lat2d = TSNE().fit_transform(latent[where_unsup])"
   ]
  },
  {
   "cell_type": "code",
   "execution_count": 135,
   "metadata": {},
   "outputs": [],
   "source": [
    "pred_lbls = pred[where_unsup]"
   ]
  },
  {
   "cell_type": "code",
   "execution_count": 137,
   "metadata": {},
   "outputs": [
    {
     "data": {
      "text/plain": [
       "<matplotlib.collections.PathCollection at 0x7f51c0c1c290>"
      ]
     },
     "execution_count": 137,
     "metadata": {},
     "output_type": "execute_result"
    },
    {
     "data": {
      "image/png": "[encoded data removed]",
      "text/plain": [
       "<Figure size 432x288 with 1 Axes>"
      ]
     },
     "metadata": {
      "needs_background": "light"
     },
     "output_type": "display_data"
    }
   ],
   "source": [
    "import matplotlib.pyplot as plt\n",
    "\n",
    "plt.scatter(lat2d[:, 0], lat2d[:, 1], c=pred_lbls)"
   ]
  },
  {
   "cell_type": "markdown",
   "metadata": {},
   "source": [
    "Hi Pierre,\n",
    "\n",
    "Yes I would really appreciate that! \n",
    "I am having memory errors with the actual dataset, but I am not entirely sure about \n",
    "RuntimeError: CUDA out of memory. Tried to allocate 30.00 MiB (GPU 0; 31.72 GiB total capacity; 11.06 GiB already allocated; 15.56 MiB free; 494.74 MiB cached)\n",
    "1. if it is also an issue with the lung benchmark data\n",
    "2. if this error also occurs in the master branch of the scVI repo or just in the hierarchical branch in my repo (it does occur whether I set use_ontology to be false)  \n",
    "The data I am using is this: /data/yosef2/users/chenling/TabulaSapiensData/combined/Pilot1_Pilot2.Final.h5ad, the column for batch is 'donor', and the column for label is 'manual_cell_ontology_class'. \n",
    "The code I am using is this: \n",
    "\n",
    "    scanvi = SCANVI(train_data.nb_genes, train_data.n_batches, train_data.n_labels, n_layers=3, n_latent=50,\n",
    "                symmetric_kl=True, use_ontology=False, dispersion='gene-batch')\n",
    "\n",
    "    trainer_scanvi = SemiSupervisedTrainer(scanvi, train_data,\n",
    "                           n_epochs_classifier=50,\n",
    "                           lr_classification=5 * 1e-3, seed=1,\n",
    "                           n_epochs_kl_warmup=5) \n",
    "\n",
    "     \n",
    "\n",
    "    unlabelled_idx = list(train_data.cell_types).index('unassigned')\n",
    "    labelled = np.where(train_data.labels.ravel()!=unlabelled_idx)[0]\n",
    "    unlabelled = np.where(train_data.labels.ravel()==unlabelled_idx)[0]\n",
    "\n",
    "     \n",
    "\n",
    "    model_file = '/data/yosef2/users/chenling/TabulaSapiens/scVImodels/combined/Pilot12.10X.donor.50.3.scVI.pkl'\n",
    "\n",
    "    trainer_scanvi.model.load_state_dict(torch.load(model_file), strict=False)\n",
    "\n",
    "    trainer_scanvi.model.eval()\n",
    "    trainer_scanvi.labelled_set = trainer_scanvi.create_posterior(indices=labelled)\n",
    "    trainer_scanvi.unlabelled_set = trainer_scanvi.create_posterior(indices=unlabelled)\n",
    "    trainer_scanvi.train(n_epochs=15)\n",
    "     \n",
    "\n",
    "Let me know if I am doing anything wrong? I tried this on two different aws instances and got the same memory error. Adam thinks it might be due to this part of the code. I meant to ask you after I test to see which version of scanvi gives the same error, but I think Nir wants it to be done asap. Sorry for dumping all of this work on you!\n",
    "\n",
    "        y_probs = self.nodes_to_leaves_probs[y]\n",
    "\n",
    "        leaves_batch = db.Categorical(probs=y_probs).sample() \n",
    "\n",
    "Thanks a lot! \n",
    "Best,\n",
    "Chenling "
   ]
  },
  {
   "cell_type": "code",
   "execution_count": null,
   "metadata": {},
   "outputs": [],
   "source": []
  },
  {
   "cell_type": "code",
   "execution_count": null,
   "metadata": {},
   "outputs": [],
   "source": []
  },
  {
   "cell_type": "code",
   "execution_count": null,
   "metadata": {},
   "outputs": [],
   "source": []
  }
 ],
 "metadata": {
  "kernelspec": {
   "display_name": "Python 3.7.6 64-bit ('base': conda)",
   "language": "python",
   "name": "python37664bitbasecondad7c74e64a96b44b68e305071c759bfe5"
  },
  "language_info": {
   "codemirror_mode": {
    "name": "ipython",
    "version": 3
   },
   "file_extension": ".py",
   "mimetype": "text/x-python",
   "name": "python",
   "nbconvert_exporter": "python",
   "pygments_lexer": "ipython3",
   "version": "3.7.6"
  },
  "toc": {
   "base_numbering": 1,
   "nav_menu": {},
   "number_sections": true,
   "sideBar": true,
   "skip_h1_title": false,
   "title_cell": "Table of Contents",
   "title_sidebar": "Contents",
   "toc_cell": false,
   "toc_position": {},
   "toc_section_display": true,
   "toc_window_display": false
  }
 },
 "nbformat": 4,
 "nbformat_minor": 4
}
